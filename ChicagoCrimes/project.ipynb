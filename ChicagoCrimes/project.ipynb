{
 "cells": [
  {
   "cell_type": "code",
   "execution_count": 82,
   "id": "7923d4fd-bae1-431c-89fa-0cf827463f12",
   "metadata": {},
   "outputs": [],
   "source": [
    "#Импорт библиотек\n",
    "import pandas as pd"
   ]
  },
  {
   "cell_type": "code",
   "execution_count": 83,
   "id": "d8d847f3-c7be-4215-8e97-db2a53268aec",
   "metadata": {},
   "outputs": [],
   "source": [
    "df = pd.read_csv(\"D:/bodya/Data_Analyst_Pet_Projects/ChicagoCrimes/Crimes_2025.csv\")\n"
   ]
  },
  {
   "cell_type": "code",
   "execution_count": 84,
   "id": "17a3b083-cbd9-47e7-870e-28c959485d77",
   "metadata": {},
   "outputs": [],
   "source": [
    "df = df.drop(['Block', 'IUCR', 'Description', 'Domestic', 'Ward', 'FBI Code', 'X Coordinate', 'Y Coordinate', 'Updated On'], axis=1)"
   ]
  },
  {
   "cell_type": "code",
   "execution_count": 85,
   "id": "310fa048-b958-4eda-b458-fab299b77634",
   "metadata": {},
   "outputs": [
    {
     "data": {
      "text/html": [
       "<div>\n",
       "<style scoped>\n",
       "    .dataframe tbody tr th:only-of-type {\n",
       "        vertical-align: middle;\n",
       "    }\n",
       "\n",
       "    .dataframe tbody tr th {\n",
       "        vertical-align: top;\n",
       "    }\n",
       "\n",
       "    .dataframe thead th {\n",
       "        text-align: right;\n",
       "    }\n",
       "</style>\n",
       "<table border=\"1\" class=\"dataframe\">\n",
       "  <thead>\n",
       "    <tr style=\"text-align: right;\">\n",
       "      <th></th>\n",
       "      <th>ID</th>\n",
       "      <th>Case Number</th>\n",
       "      <th>Date</th>\n",
       "      <th>Primary Type</th>\n",
       "      <th>Location Description</th>\n",
       "      <th>Arrest</th>\n",
       "      <th>Beat</th>\n",
       "      <th>District</th>\n",
       "      <th>Community Area</th>\n",
       "      <th>Year</th>\n",
       "      <th>Latitude</th>\n",
       "      <th>Longitude</th>\n",
       "      <th>Location</th>\n",
       "    </tr>\n",
       "  </thead>\n",
       "  <tbody>\n",
       "    <tr>\n",
       "      <th>0</th>\n",
       "      <td>13761241</td>\n",
       "      <td>JJ160950</td>\n",
       "      <td>02/25/2025 12:00:00 AM</td>\n",
       "      <td>BATTERY</td>\n",
       "      <td>STREET</td>\n",
       "      <td>False</td>\n",
       "      <td>621</td>\n",
       "      <td>6</td>\n",
       "      <td>71</td>\n",
       "      <td>2025</td>\n",
       "      <td>41.751928</td>\n",
       "      <td>-87.644077</td>\n",
       "      <td>POINT (-87.644077264 41.751928332)</td>\n",
       "    </tr>\n",
       "    <tr>\n",
       "      <th>1</th>\n",
       "      <td>13758436</td>\n",
       "      <td>JJ161145</td>\n",
       "      <td>02/25/2025 12:00:00 AM</td>\n",
       "      <td>THEFT</td>\n",
       "      <td>RESIDENCE - PORCH / HALLWAY</td>\n",
       "      <td>False</td>\n",
       "      <td>1413</td>\n",
       "      <td>14</td>\n",
       "      <td>22</td>\n",
       "      <td>2025</td>\n",
       "      <td>41.926496</td>\n",
       "      <td>-87.711272</td>\n",
       "      <td>POINT (-87.711272034 41.92649591)</td>\n",
       "    </tr>\n",
       "    <tr>\n",
       "      <th>2</th>\n",
       "      <td>13761404</td>\n",
       "      <td>JJ164710</td>\n",
       "      <td>02/25/2025 12:00:00 AM</td>\n",
       "      <td>THEFT</td>\n",
       "      <td>STREET</td>\n",
       "      <td>False</td>\n",
       "      <td>2514</td>\n",
       "      <td>25</td>\n",
       "      <td>19</td>\n",
       "      <td>2025</td>\n",
       "      <td>41.938534</td>\n",
       "      <td>-87.769664</td>\n",
       "      <td>POINT (-87.769664489 41.938534467)</td>\n",
       "    </tr>\n",
       "    <tr>\n",
       "      <th>3</th>\n",
       "      <td>13759742</td>\n",
       "      <td>JJ162571</td>\n",
       "      <td>02/25/2025 12:00:00 AM</td>\n",
       "      <td>SEX OFFENSE</td>\n",
       "      <td>APARTMENT</td>\n",
       "      <td>False</td>\n",
       "      <td>621</td>\n",
       "      <td>6</td>\n",
       "      <td>44</td>\n",
       "      <td>2025</td>\n",
       "      <td>41.748107</td>\n",
       "      <td>-87.637877</td>\n",
       "      <td>POINT (-87.637877407 41.748106575)</td>\n",
       "    </tr>\n",
       "    <tr>\n",
       "      <th>4</th>\n",
       "      <td>13760822</td>\n",
       "      <td>JJ164097</td>\n",
       "      <td>02/25/2025 12:00:00 AM</td>\n",
       "      <td>THEFT</td>\n",
       "      <td>HOSPITAL BUILDING / GROUNDS</td>\n",
       "      <td>False</td>\n",
       "      <td>2031</td>\n",
       "      <td>20</td>\n",
       "      <td>4</td>\n",
       "      <td>2025</td>\n",
       "      <td>41.975122</td>\n",
       "      <td>-87.698899</td>\n",
       "      <td>POINT (-87.698898525 41.975121537)</td>\n",
       "    </tr>\n",
       "    <tr>\n",
       "      <th>5</th>\n",
       "      <td>13759622</td>\n",
       "      <td>JJ162644</td>\n",
       "      <td>02/25/2025 12:00:00 AM</td>\n",
       "      <td>THEFT</td>\n",
       "      <td>APARTMENT</td>\n",
       "      <td>False</td>\n",
       "      <td>732</td>\n",
       "      <td>7</td>\n",
       "      <td>68</td>\n",
       "      <td>2025</td>\n",
       "      <td>41.768236</td>\n",
       "      <td>-87.642041</td>\n",
       "      <td>POINT (-87.642040549 41.76823645)</td>\n",
       "    </tr>\n",
       "    <tr>\n",
       "      <th>6</th>\n",
       "      <td>13758406</td>\n",
       "      <td>JJ161010</td>\n",
       "      <td>02/25/2025 12:00:00 AM</td>\n",
       "      <td>CRIMINAL DAMAGE</td>\n",
       "      <td>RESIDENCE - GARAGE</td>\n",
       "      <td>False</td>\n",
       "      <td>921</td>\n",
       "      <td>9</td>\n",
       "      <td>58</td>\n",
       "      <td>2025</td>\n",
       "      <td>41.820691</td>\n",
       "      <td>-87.690802</td>\n",
       "      <td>POINT (-87.690802238 41.820691149)</td>\n",
       "    </tr>\n",
       "    <tr>\n",
       "      <th>7</th>\n",
       "      <td>13758384</td>\n",
       "      <td>JJ161012</td>\n",
       "      <td>02/25/2025 12:00:00 AM</td>\n",
       "      <td>NARCOTICS</td>\n",
       "      <td>STREET</td>\n",
       "      <td>True</td>\n",
       "      <td>1121</td>\n",
       "      <td>11</td>\n",
       "      <td>23</td>\n",
       "      <td>2025</td>\n",
       "      <td>41.895480</td>\n",
       "      <td>-87.714298</td>\n",
       "      <td>POINT (-87.714298449 41.895480474)</td>\n",
       "    </tr>\n",
       "    <tr>\n",
       "      <th>8</th>\n",
       "      <td>13758413</td>\n",
       "      <td>JJ161046</td>\n",
       "      <td>02/25/2025 12:00:00 AM</td>\n",
       "      <td>CRIMINAL DAMAGE</td>\n",
       "      <td>RESIDENCE</td>\n",
       "      <td>False</td>\n",
       "      <td>424</td>\n",
       "      <td>4</td>\n",
       "      <td>46</td>\n",
       "      <td>2025</td>\n",
       "      <td>41.732897</td>\n",
       "      <td>-87.549937</td>\n",
       "      <td>POINT (-87.549937166 41.732897026)</td>\n",
       "    </tr>\n",
       "    <tr>\n",
       "      <th>9</th>\n",
       "      <td>13758247</td>\n",
       "      <td>JJ160863</td>\n",
       "      <td>02/24/2025 11:50:00 PM</td>\n",
       "      <td>WEAPONS VIOLATION</td>\n",
       "      <td>SIDEWALK</td>\n",
       "      <td>False</td>\n",
       "      <td>623</td>\n",
       "      <td>6</td>\n",
       "      <td>69</td>\n",
       "      <td>2025</td>\n",
       "      <td>41.751453</td>\n",
       "      <td>-87.624568</td>\n",
       "      <td>POINT (-87.624567581 41.751452878)</td>\n",
       "    </tr>\n",
       "  </tbody>\n",
       "</table>\n",
       "</div>"
      ],
      "text/plain": [
       "         ID Case Number                    Date       Primary Type  \\\n",
       "0  13761241    JJ160950  02/25/2025 12:00:00 AM            BATTERY   \n",
       "1  13758436    JJ161145  02/25/2025 12:00:00 AM              THEFT   \n",
       "2  13761404    JJ164710  02/25/2025 12:00:00 AM              THEFT   \n",
       "3  13759742    JJ162571  02/25/2025 12:00:00 AM        SEX OFFENSE   \n",
       "4  13760822    JJ164097  02/25/2025 12:00:00 AM              THEFT   \n",
       "5  13759622    JJ162644  02/25/2025 12:00:00 AM              THEFT   \n",
       "6  13758406    JJ161010  02/25/2025 12:00:00 AM    CRIMINAL DAMAGE   \n",
       "7  13758384    JJ161012  02/25/2025 12:00:00 AM          NARCOTICS   \n",
       "8  13758413    JJ161046  02/25/2025 12:00:00 AM    CRIMINAL DAMAGE   \n",
       "9  13758247    JJ160863  02/24/2025 11:50:00 PM  WEAPONS VIOLATION   \n",
       "\n",
       "          Location Description  Arrest  Beat  District  Community Area  Year  \\\n",
       "0                       STREET   False   621         6              71  2025   \n",
       "1  RESIDENCE - PORCH / HALLWAY   False  1413        14              22  2025   \n",
       "2                       STREET   False  2514        25              19  2025   \n",
       "3                    APARTMENT   False   621         6              44  2025   \n",
       "4  HOSPITAL BUILDING / GROUNDS   False  2031        20               4  2025   \n",
       "5                    APARTMENT   False   732         7              68  2025   \n",
       "6           RESIDENCE - GARAGE   False   921         9              58  2025   \n",
       "7                       STREET    True  1121        11              23  2025   \n",
       "8                    RESIDENCE   False   424         4              46  2025   \n",
       "9                     SIDEWALK   False   623         6              69  2025   \n",
       "\n",
       "    Latitude  Longitude                            Location  \n",
       "0  41.751928 -87.644077  POINT (-87.644077264 41.751928332)  \n",
       "1  41.926496 -87.711272   POINT (-87.711272034 41.92649591)  \n",
       "2  41.938534 -87.769664  POINT (-87.769664489 41.938534467)  \n",
       "3  41.748107 -87.637877  POINT (-87.637877407 41.748106575)  \n",
       "4  41.975122 -87.698899  POINT (-87.698898525 41.975121537)  \n",
       "5  41.768236 -87.642041   POINT (-87.642040549 41.76823645)  \n",
       "6  41.820691 -87.690802  POINT (-87.690802238 41.820691149)  \n",
       "7  41.895480 -87.714298  POINT (-87.714298449 41.895480474)  \n",
       "8  41.732897 -87.549937  POINT (-87.549937166 41.732897026)  \n",
       "9  41.751453 -87.624568  POINT (-87.624567581 41.751452878)  "
      ]
     },
     "execution_count": 85,
     "metadata": {},
     "output_type": "execute_result"
    }
   ],
   "source": [
    "df.head(10) #Вывод 10 первых строк\n"
   ]
  },
  {
   "cell_type": "markdown",
   "id": "6354f5c7-8805-4c7d-bd78-d580111ec870",
   "metadata": {},
   "source": [
    "## Описание данных:"
   ]
  },
  {
   "cell_type": "markdown",
   "id": "5e6533b6-dec5-44dc-bffa-b7fff0b9d3c0",
   "metadata": {},
   "source": [
    "- ID: Это может быть уникальный идентификатор для каждой строки данных (преступления).\n",
    "\n",
    "- Date: Дата и время совершения преступления.\n",
    "                \n",
    "- Primary Type: Тип преступления (например, кража, убийство, нападение и т. д.).\n",
    "\n",
    "- Description: Более детальное описание преступления.\n",
    "\n",
    "- Location Description: Местоположение, где произошло преступление (например, улица, парк, здание).\n",
    "                \n",
    "- Arrest: Информация о том, был ли произведен арест (1 - арест, 0 - без ареста).\n",
    "                \n",
    "- Latitude/Longitude: Координаты местоположения преступления.\n",
    "                \n",
    "- Year/Month/Day: Год, месяц и день совершения преступления.\n",
    "                \n",
    "- District: Полицейский район или округ, где произошло преступление.\n",
    "                \n",
    "- Community Area: Район, в котором совершено преступление (может быть в виде кода района)."
   ]
  },
  {
   "cell_type": "code",
   "execution_count": 86,
   "id": "e65d7868-51a9-42eb-86f5-76e40074571b",
   "metadata": {},
   "outputs": [
    {
     "name": "stdout",
     "output_type": "stream",
     "text": [
      "<class 'pandas.core.frame.DataFrame'>\n",
      "RangeIndex: 31340 entries, 0 to 31339\n",
      "Data columns (total 13 columns):\n",
      " #   Column                Non-Null Count  Dtype  \n",
      "---  ------                --------------  -----  \n",
      " 0   ID                    31340 non-null  int64  \n",
      " 1   Case Number           31340 non-null  object \n",
      " 2   Date                  31340 non-null  object \n",
      " 3   Primary Type          31340 non-null  object \n",
      " 4   Location Description  31271 non-null  object \n",
      " 5   Arrest                31340 non-null  bool   \n",
      " 6   Beat                  31340 non-null  int64  \n",
      " 7   District              31340 non-null  int64  \n",
      " 8   Community Area        31340 non-null  int64  \n",
      " 9   Year                  31340 non-null  int64  \n",
      " 10  Latitude              31277 non-null  float64\n",
      " 11  Longitude             31277 non-null  float64\n",
      " 12  Location              31277 non-null  object \n",
      "dtypes: bool(1), float64(2), int64(5), object(5)\n",
      "memory usage: 2.9+ MB\n"
     ]
    }
   ],
   "source": [
    "df.info() # общая информация о датасете"
   ]
  },
  {
   "cell_type": "code",
   "execution_count": 87,
   "id": "b36d7b50-83af-4182-a429-dcdb82dd7e20",
   "metadata": {},
   "outputs": [
    {
     "data": {
      "text/html": [
       "<div>\n",
       "<style scoped>\n",
       "    .dataframe tbody tr th:only-of-type {\n",
       "        vertical-align: middle;\n",
       "    }\n",
       "\n",
       "    .dataframe tbody tr th {\n",
       "        vertical-align: top;\n",
       "    }\n",
       "\n",
       "    .dataframe thead th {\n",
       "        text-align: right;\n",
       "    }\n",
       "</style>\n",
       "<table border=\"1\" class=\"dataframe\">\n",
       "  <thead>\n",
       "    <tr style=\"text-align: right;\">\n",
       "      <th></th>\n",
       "      <th>ID</th>\n",
       "      <th>Beat</th>\n",
       "      <th>District</th>\n",
       "      <th>Community Area</th>\n",
       "      <th>Year</th>\n",
       "      <th>Latitude</th>\n",
       "      <th>Longitude</th>\n",
       "    </tr>\n",
       "  </thead>\n",
       "  <tbody>\n",
       "    <tr>\n",
       "      <th>count</th>\n",
       "      <td>3.134000e+04</td>\n",
       "      <td>31340.000000</td>\n",
       "      <td>31340.000000</td>\n",
       "      <td>31340.000000</td>\n",
       "      <td>31340.0</td>\n",
       "      <td>31277.000000</td>\n",
       "      <td>31277.000000</td>\n",
       "    </tr>\n",
       "    <tr>\n",
       "      <th>mean</th>\n",
       "      <td>1.370936e+07</td>\n",
       "      <td>1152.650798</td>\n",
       "      <td>11.299043</td>\n",
       "      <td>36.575016</td>\n",
       "      <td>2025.0</td>\n",
       "      <td>41.846125</td>\n",
       "      <td>-87.669076</td>\n",
       "    </tr>\n",
       "    <tr>\n",
       "      <th>std</th>\n",
       "      <td>5.841702e+05</td>\n",
       "      <td>714.304266</td>\n",
       "      <td>7.141032</td>\n",
       "      <td>21.577809</td>\n",
       "      <td>0.0</td>\n",
       "      <td>0.087292</td>\n",
       "      <td>0.059362</td>\n",
       "    </tr>\n",
       "    <tr>\n",
       "      <th>min</th>\n",
       "      <td>2.854500e+04</td>\n",
       "      <td>111.000000</td>\n",
       "      <td>1.000000</td>\n",
       "      <td>1.000000</td>\n",
       "      <td>2025.0</td>\n",
       "      <td>41.644590</td>\n",
       "      <td>-87.922965</td>\n",
       "    </tr>\n",
       "    <tr>\n",
       "      <th>25%</th>\n",
       "      <td>1.372169e+07</td>\n",
       "      <td>532.000000</td>\n",
       "      <td>5.000000</td>\n",
       "      <td>23.000000</td>\n",
       "      <td>2025.0</td>\n",
       "      <td>41.771722</td>\n",
       "      <td>-87.711739</td>\n",
       "    </tr>\n",
       "    <tr>\n",
       "      <th>50%</th>\n",
       "      <td>1.373441e+07</td>\n",
       "      <td>1031.000000</td>\n",
       "      <td>10.000000</td>\n",
       "      <td>32.000000</td>\n",
       "      <td>2025.0</td>\n",
       "      <td>41.864045</td>\n",
       "      <td>-87.661882</td>\n",
       "    </tr>\n",
       "    <tr>\n",
       "      <th>75%</th>\n",
       "      <td>1.374687e+07</td>\n",
       "      <td>1732.000000</td>\n",
       "      <td>17.000000</td>\n",
       "      <td>53.000000</td>\n",
       "      <td>2025.0</td>\n",
       "      <td>41.909294</td>\n",
       "      <td>-87.627139</td>\n",
       "    </tr>\n",
       "    <tr>\n",
       "      <th>max</th>\n",
       "      <td>1.376481e+07</td>\n",
       "      <td>2535.000000</td>\n",
       "      <td>31.000000</td>\n",
       "      <td>77.000000</td>\n",
       "      <td>2025.0</td>\n",
       "      <td>42.022536</td>\n",
       "      <td>-87.525406</td>\n",
       "    </tr>\n",
       "  </tbody>\n",
       "</table>\n",
       "</div>"
      ],
      "text/plain": [
       "                 ID          Beat      District  Community Area     Year  \\\n",
       "count  3.134000e+04  31340.000000  31340.000000    31340.000000  31340.0   \n",
       "mean   1.370936e+07   1152.650798     11.299043       36.575016   2025.0   \n",
       "std    5.841702e+05    714.304266      7.141032       21.577809      0.0   \n",
       "min    2.854500e+04    111.000000      1.000000        1.000000   2025.0   \n",
       "25%    1.372169e+07    532.000000      5.000000       23.000000   2025.0   \n",
       "50%    1.373441e+07   1031.000000     10.000000       32.000000   2025.0   \n",
       "75%    1.374687e+07   1732.000000     17.000000       53.000000   2025.0   \n",
       "max    1.376481e+07   2535.000000     31.000000       77.000000   2025.0   \n",
       "\n",
       "           Latitude     Longitude  \n",
       "count  31277.000000  31277.000000  \n",
       "mean      41.846125    -87.669076  \n",
       "std        0.087292      0.059362  \n",
       "min       41.644590    -87.922965  \n",
       "25%       41.771722    -87.711739  \n",
       "50%       41.864045    -87.661882  \n",
       "75%       41.909294    -87.627139  \n",
       "max       42.022536    -87.525406  "
      ]
     },
     "execution_count": 87,
     "metadata": {},
     "output_type": "execute_result"
    }
   ],
   "source": [
    "df.describe() # cтатистика по числовым данным"
   ]
  },
  {
   "cell_type": "markdown",
   "id": "72359490-153d-4140-a310-ca775b1b7135",
   "metadata": {},
   "source": [
    "# Анализ столбцов на основе описательной статистики\n",
    "\n",
    "### 1. Столбец 'ID'\n",
    "- Если в столбце 'ID' минимальное значение будет очень маленьким или равным 0, это может указывать на ошибку. Такие значения нужно проверять на корректность.\n",
    "\n",
    "### 2. Столбец 'Arrest'\n",
    "- Для столбца 'Arrest' проверим, если есть значения, которые не соответствуют допустимым (например, значения, отличные от \"True\" или \"False\"). Если в данных есть другие значения, это может указывать на ошибку.\n",
    "\n",
    "### 3. Столбец 'Location Description'\n",
    "- Если в столбце 'Location Description' присутствуют значения \"NA\" или \"Unknown\" в огромном количестве, это может быть связано с отсутствием данных. Нужно оценить, является ли это нормой для данного столбца или это ошибка в данных.\n",
    "\n",
    "### 4. Столбец 'Latitude' и 'Longitude'\n",
    "- Параметры широты ('Latitude') и долготы ('Longitude') должны находиться в пределах:\n",
    "  - Широта от -90 до 90.\n",
    "  - Долгота от -180 до 180.\n",
    "- Нужно проверить, есть ли значения, выходящие за эти пределы, так как это может указывать на ошибочные данные.\n",
    "\n",
    "### 5. Столбец 'Date'\n",
    "- Для столбца 'Date' необходимо проверить корректность формата дат. \n",
    "- Невозможно, чтобы дата была в будущем или на несколько лет назад, если это явно ошибка.\n",
    "\n",
    "### 6. Столбец 'Primary Type'\n",
    "- Для столбца 'Primary Type' нужно провести аналогичный анализ, как для типа преступлений. Проверим на необычные значения или аномалии, которые могут указывать на ошибочные данные.\n",
    "\n"
   ]
  },
  {
   "cell_type": "code",
   "execution_count": 88,
   "id": "3fcd5741-f910-4831-adc5-7e21d880f8c8",
   "metadata": {},
   "outputs": [
    {
     "data": {
      "text/plain": [
       "ID                       0\n",
       "Case Number              0\n",
       "Date                     0\n",
       "Primary Type             0\n",
       "Location Description    69\n",
       "Arrest                   0\n",
       "Beat                     0\n",
       "District                 0\n",
       "Community Area           0\n",
       "Year                     0\n",
       "Latitude                63\n",
       "Longitude               63\n",
       "Location                63\n",
       "dtype: int64"
      ]
     },
     "execution_count": 88,
     "metadata": {},
     "output_type": "execute_result"
    }
   ],
   "source": [
    "(df.isnull().sum()) #проверка на пропущенные значения"
   ]
  },
  {
   "cell_type": "markdown",
   "id": "c8176eb9-518b-4e7f-b4aa-507ef94196ee",
   "metadata": {},
   "source": [
    "## Анализ пропущенных значений:\n",
    " #### Столбец 'Location Description' (69 пропущенных значений):\n",
    "- В этом столбце отсутствуют значения в 69 случаях, что может указывать на отсутствие информации о местоположении. Это нужно исследовать: Возможно, для некоторых случаев информация не была предоставлена или не применялась.\n",
    "- Можно обработать пропущенные значения путем их удаления или замены (например, на 'Unknown').\n",
    "\n",
    " #### Столбец 'Latitude' (63 пропущенных значений):\n",
    "- Пропущены данные по широте в 63 случаях. Это может означать, что для некоторых случаев не было зафиксировано географическое местоположение.\n",
    "- Такие строки можно удалить или обработать пропущенные значения.\n",
    "\n",
    " #### Столбец 'Longitude' (63 пропущенных значений):\n",
    "- Аналогично к 'Latitude'.\n",
    "      \n",
    " #### Столбец 'Location' (63 пропущенных значений):\n",
    "- Пропущенные данные в этом столбце также могут указывать на отсутствие информации о точном местоположении.\n"
   ]
  },
  {
   "cell_type": "code",
   "execution_count": 89,
   "id": "85b2f7e3-c059-4c55-b474-a100e23d2d52",
   "metadata": {},
   "outputs": [
    {
     "data": {
      "text/plain": [
       "ID                        int64\n",
       "Case Number              object\n",
       "Date                     object\n",
       "Primary Type             object\n",
       "Location Description     object\n",
       "Arrest                     bool\n",
       "Beat                      int64\n",
       "District                  int64\n",
       "Community Area            int64\n",
       "Year                      int64\n",
       "Latitude                float64\n",
       "Longitude               float64\n",
       "Location                 object\n",
       "dtype: object"
      ]
     },
     "execution_count": 89,
     "metadata": {},
     "output_type": "execute_result"
    }
   ],
   "source": [
    "df.dtypes"
   ]
  },
  {
   "cell_type": "markdown",
   "id": "008edd05-2991-4308-953e-bc066f230b8b",
   "metadata": {},
   "source": [
    "## Анализ типов данных каждого столбца\n",
    "- Столб 'ID' (тип int): Ошибок здесь не будет, но можно проверить на наличие дублирующихся значений, чтобы убедиться, что каждый ID уникален.\n",
    "- Столб 'Case Number' (тип object): Можно проверить, если в данных есть какие-либо невалидные или пустые значения.\n",
    "- Столб 'Date' (тип object): Дата представлена как строка, ее нужно будет преобразовать в формат datetime для дальнейшего анализа.\n",
    "- Столб 'Primary Type' (тип object): Необходимо проверить, не содержит ли этот столбец аномальных значений или дубликатов.\n",
    "- Столб 'Location Description' (тип object): Можно проверить на наличие пустых значений.\n",
    "- Столб 'Arrest' (тип bool): Можно проверить, сколько преступлений привели к аресту.\n",
    "- Столб 'Beat' (тип int): Проверим, чтобы не было отрицательных значений или дубликатов.\n",
    "- Столб 'District' (тип int): Нужно убедиться, что значения в пределах разумных границ.\n",
    "- Столб 'Community Area' (тип int): Аналогично предыдущим столбцам, проверим на значения, выходящие за пределы возможных.\n",
    "- Столб 'Year' (тип int): Тип верный, датасет представляет данные за 2025 год, проверок не требуется.\n",
    "- Столбцы 'Latitude' и 'Longitude' (тип float): Проверим их на корректность (широта от -90 до 90, долгота от -180 до 180).\n",
    "- Столб 'Location' (тип object): Аналогично столбцу Location Description, можно проверить на аномалии или пропущенные значения."
   ]
  },
  {
   "cell_type": "code",
   "execution_count": 90,
   "id": "41f3079c-d809-4709-b92d-b08374017237",
   "metadata": {},
   "outputs": [
    {
     "name": "stdout",
     "output_type": "stream",
     "text": [
      "0\n"
     ]
    }
   ],
   "source": [
    "print(df['ID'].duplicated().sum()) # проверка на дубликаты"
   ]
  },
  {
   "cell_type": "code",
   "execution_count": 91,
   "id": "e5b4928a-bcdb-45ef-ac08-235c4d7e044d",
   "metadata": {},
   "outputs": [
    {
     "name": "stdout",
     "output_type": "stream",
     "text": [
      "0\n",
      "4\n"
     ]
    }
   ],
   "source": [
    "print(df['Case Number'].isna().sum()) # проверка на пропущенные значения\n",
    "print(df['Case Number'].duplicated().sum())\n",
    "df = df.drop_duplicates(subset='Case Number')"
   ]
  },
  {
   "cell_type": "code",
   "execution_count": 110,
   "id": "070c988d-a6fa-41e8-886c-ba47128908ed",
   "metadata": {},
   "outputs": [],
   "source": [
    "df['Date'] = pd.to_datetime(df['Date'], errors='coerce') # преобразование в datetime"
   ]
  },
  {
   "cell_type": "code",
   "execution_count": 93,
   "id": "09b18b2a-f5b3-4036-9b4f-04e0b45b06fc",
   "metadata": {},
   "outputs": [
    {
     "name": "stdout",
     "output_type": "stream",
     "text": [
      "0\n"
     ]
    }
   ],
   "source": [
    "print(df['Date'].isna().sum()) # проверка на ошибки при преобразовании"
   ]
  },
  {
   "cell_type": "code",
   "execution_count": 94,
   "id": "58468e54-4ae1-4deb-9333-33fc781a61ad",
   "metadata": {},
   "outputs": [
    {
     "name": "stdout",
     "output_type": "stream",
     "text": [
      "Primary Type\n",
      "THEFT                                7327\n",
      "BATTERY                              5378\n",
      "CRIMINAL DAMAGE                      3034\n",
      "ASSAULT                              2708\n",
      "OTHER OFFENSE                        2556\n",
      "MOTOR VEHICLE THEFT                  2312\n",
      "DECEPTIVE PRACTICE                   1875\n",
      "NARCOTICS                            1427\n",
      "BURGLARY                             1074\n",
      "ROBBERY                               894\n",
      "WEAPONS VIOLATION                     799\n",
      "CRIMINAL TRESPASS                     744\n",
      "OFFENSE INVOLVING CHILDREN            228\n",
      "CRIMINAL SEXUAL ASSAULT               194\n",
      "SEX OFFENSE                           170\n",
      "INTERFERENCE WITH PUBLIC OFFICER      152\n",
      "PUBLIC PEACE VIOLATION                145\n",
      "STALKING                               69\n",
      "ARSON                                  57\n",
      "HOMICIDE                               53\n",
      "CONCEALED CARRY LICENSE VIOLATION      46\n",
      "LIQUOR LAW VIOLATION                   27\n",
      "PROSTITUTION                           21\n",
      "INTIMIDATION                           14\n",
      "KIDNAPPING                             13\n",
      "OBSCENITY                               8\n",
      "PUBLIC INDECENCY                        4\n",
      "OTHER NARCOTIC VIOLATION                3\n",
      "NON-CRIMINAL                            2\n",
      "HUMAN TRAFFICKING                       2\n",
      "Name: count, dtype: int64\n"
     ]
    }
   ],
   "source": [
    "print(df['Primary Type'].value_counts()) # частота различных типов преступлений"
   ]
  },
  {
   "cell_type": "code",
   "execution_count": 95,
   "id": "10a4c5c7-daf6-4fe1-a4e2-7da8c8b3434f",
   "metadata": {},
   "outputs": [
    {
     "name": "stdout",
     "output_type": "stream",
     "text": [
      "69\n",
      "Location Description\n",
      "STREET                               7984\n",
      "APARTMENT                            6534\n",
      "RESIDENCE                            3756\n",
      "SMALL RETAIL STORE                   1415\n",
      "SIDEWALK                             1284\n",
      "                                     ... \n",
      "CEMETARY                                1\n",
      "CREDIT UNION                            1\n",
      "FOREST PRESERVE                         1\n",
      "VEHICLE - COMMERCIAL: TROLLEY BUS       1\n",
      "YARD                                    1\n",
      "Name: count, Length: 104, dtype: int64\n"
     ]
    }
   ],
   "source": [
    "print(df['Location Description'].isna().sum())\n",
    "print(df['Location Description'].value_counts())"
   ]
  },
  {
   "cell_type": "code",
   "execution_count": 96,
   "id": "ec46072f-6e1d-40bc-942f-272a0cef60e4",
   "metadata": {},
   "outputs": [
    {
     "name": "stdout",
     "output_type": "stream",
     "text": [
      "Arrest\n",
      "False    25700\n",
      "True      5636\n",
      "Name: count, dtype: int64\n"
     ]
    }
   ],
   "source": [
    "print(df['Arrest'].value_counts())"
   ]
  },
  {
   "cell_type": "code",
   "execution_count": 97,
   "id": "e16ab4e5-c79c-43f5-8f58-c85a836b7c4f",
   "metadata": {},
   "outputs": [
    {
     "name": "stdout",
     "output_type": "stream",
     "text": [
      "0        True\n",
      "1        True\n",
      "2        True\n",
      "3        True\n",
      "4        True\n",
      "         ... \n",
      "31335    True\n",
      "31336    True\n",
      "31337    True\n",
      "31338    True\n",
      "31339    True\n",
      "Name: Beat, Length: 31336, dtype: bool\n"
     ]
    }
   ],
   "source": [
    "print(df['Beat'] > 0)"
   ]
  },
  {
   "cell_type": "code",
   "execution_count": 98,
   "id": "ce46b73e-ff5f-44eb-9eb4-7e7cdef0c772",
   "metadata": {},
   "outputs": [
    {
     "name": "stdout",
     "output_type": "stream",
     "text": [
      "31062\n"
     ]
    }
   ],
   "source": [
    "print(df['Beat'].duplicated().sum()) "
   ]
  },
  {
   "cell_type": "code",
   "execution_count": 99,
   "id": "c5876881-f9ea-4169-9290-75cf31b604ee",
   "metadata": {},
   "outputs": [
    {
     "name": "stdout",
     "output_type": "stream",
     "text": [
      "1 31\n"
     ]
    }
   ],
   "source": [
    "print(df['District'].min(), df['District'].max()) # проверка границ"
   ]
  },
  {
   "cell_type": "code",
   "execution_count": 100,
   "id": "23202b3b-798b-4450-bbe7-3b6512339961",
   "metadata": {},
   "outputs": [
    {
     "name": "stdout",
     "output_type": "stream",
     "text": [
      "1 77\n"
     ]
    }
   ],
   "source": [
    "print(df['Community Area'].min(), df['Community Area'].max())"
   ]
  },
  {
   "cell_type": "code",
   "execution_count": 101,
   "id": "7e8d4808-95a3-4f03-b70c-2240884d93e8",
   "metadata": {},
   "outputs": [
    {
     "name": "stdout",
     "output_type": "stream",
     "text": [
      "41.644589713 42.022535703\n"
     ]
    }
   ],
   "source": [
    "print(df['Latitude'].min(), df['Latitude'].max()) # проверка правильности широты"
   ]
  },
  {
   "cell_type": "code",
   "execution_count": 102,
   "id": "f91e332f-b5be-49bc-8218-08c5a78ebb9b",
   "metadata": {},
   "outputs": [
    {
     "name": "stdout",
     "output_type": "stream",
     "text": [
      "-87.922964929 -87.525406297\n"
     ]
    }
   ],
   "source": [
    "print(df['Longitude'].min(), df['Longitude'].max()) # проверка правильности высоты"
   ]
  },
  {
   "cell_type": "code",
   "execution_count": 103,
   "id": "d8ac8123-2774-4107-9f06-df3e863d1f36",
   "metadata": {},
   "outputs": [
    {
     "name": "stdout",
     "output_type": "stream",
     "text": [
      "63\n"
     ]
    }
   ],
   "source": [
    "print(df['Location'].isna().sum())"
   ]
  },
  {
   "cell_type": "markdown",
   "id": "04708cc3-49e4-4299-8f42-a5113f803a0c",
   "metadata": {},
   "source": [
    "## Выводы по столбцам\n",
    "\n",
    "- Идентификаторы без дубликатов, номера дел содержат 4 дубликата, что скорее всего - ошибка, дубликаты были успешно удалены. Даты были преобразованы в тип datetime. Значения идентификаторов участка верны, датасет содержит 31066 дубликатов. Это значит, что большинство арестов проводилось одним участком. Значения столбцов District и Community Area в разумных границах. Значения Latitude и Longitude также в разумных границах, соответственно широты и высоты."
   ]
  },
  {
   "cell_type": "code",
   "execution_count": 104,
   "id": "1f50bbd8-adf9-4759-887b-d8525b7b7f91",
   "metadata": {},
   "outputs": [
    {
     "name": "stdout",
     "output_type": "stream",
     "text": [
      "Latitude     63\n",
      "Longitude    63\n",
      "Location     63\n",
      "dtype: int64\n"
     ]
    }
   ],
   "source": [
    "print(df[['Latitude', 'Longitude','Location']].isna().sum()) # возвращение к пропущенным значениям в локациях"
   ]
  },
  {
   "cell_type": "code",
   "execution_count": 105,
   "id": "91aa2109-7a9d-4362-94df-8bf7c7424e21",
   "metadata": {},
   "outputs": [
    {
     "name": "stdout",
     "output_type": "stream",
     "text": [
      "Primary Type\n",
      "THEFT                         27\n",
      "DECEPTIVE PRACTICE            11\n",
      "OTHER OFFENSE                  6\n",
      "MOTOR VEHICLE THEFT            5\n",
      "BURGLARY                       4\n",
      "ASSAULT                        3\n",
      "CRIMINAL DAMAGE                2\n",
      "BATTERY                        1\n",
      "STALKING                       1\n",
      "OFFENSE INVOLVING CHILDREN     1\n",
      "PROSTITUTION                   1\n",
      "SEX OFFENSE                    1\n",
      "Name: count, dtype: int64\n"
     ]
    }
   ],
   "source": [
    "print(df[df['Location'].isna()]['Primary Type'].value_counts())"
   ]
  },
  {
   "cell_type": "code",
   "execution_count": 106,
   "id": "141bc717-1477-4086-9064-4b0bb89499bc",
   "metadata": {},
   "outputs": [
    {
     "name": "stdout",
     "output_type": "stream",
     "text": [
      "Primary Type\n",
      "DECEPTIVE PRACTICE    69\n",
      "Name: count, dtype: int64\n"
     ]
    }
   ],
   "source": [
    "print(df[df['Location Description'].isna()]['Primary Type'].value_counts())"
   ]
  },
  {
   "cell_type": "code",
   "execution_count": 111,
   "id": "15b6c109-7fad-4800-bdd8-88693ec2321a",
   "metadata": {},
   "outputs": [],
   "source": [
    "df[['Location Description', 'Location']] = df[['Location Description', 'Location']].fillna('Unknown')"
   ]
  },
  {
   "cell_type": "code",
   "execution_count": 112,
   "id": "dd3c8687-8b21-44e1-8848-d8cb2d434189",
   "metadata": {},
   "outputs": [
    {
     "name": "stdout",
     "output_type": "stream",
     "text": [
      "float64\n"
     ]
    }
   ],
   "source": [
    "print(df['Longitude'].dtype)\n"
   ]
  },
  {
   "cell_type": "code",
   "execution_count": 116,
   "id": "2ae4ec6f-9996-4c4a-9381-8b629ab3e7d7",
   "metadata": {},
   "outputs": [],
   "source": [
    "df['Latitude'] = df['Latitude'].fillna(df['Latitude'].median())\n",
    "df['Longitude'] = df['Longitude'].fillna(df['Longitude'].median())"
   ]
  },
  {
   "cell_type": "code",
   "execution_count": 117,
   "id": "c412f5cd-9175-4263-8750-a932c08a0b3d",
   "metadata": {},
   "outputs": [
    {
     "name": "stdout",
     "output_type": "stream",
     "text": [
      "0\n"
     ]
    }
   ],
   "source": [
    "print(df['Location'].isna().sum())"
   ]
  },
  {
   "cell_type": "markdown",
   "id": "8d4714e5-1c2d-49e8-a967-a535830c2938",
   "metadata": {},
   "source": [
    "## Анализ столбцов локации('Location','Location Description','Latitude','Longitude'):\n",
    "- Значения локаций имеют пропуски, был проведён анализ типов преступлений без информации о местоположении.\n",
    "- *Возможные причины пропусков:*\n",
    "  -    Некоторые преступления были совершены онлайн (например, DECEPTIVE PRACTICE(мошенничество)).\n",
    "  -    Не все отчёты содержат точное местоположение(например, заявление подано позже).\n",
    "  -    Возможны ошибки или неполнота данных при сборе.\n",
    "- Пропуски были заменены на 'Unknown', так как таким образом мы не потеряем данные и сможем использовать их в дальнейшем анализе(если потребуется). Столбцы 'Latitude' и 'Longitude' были заполнены по медиане(так как значение столбцов float64).\n",
    "\n",
    "#### Вывод:\n",
    "#####      Пропуски были заполнены без потерь данных и их можно использовать в дальнейшем анализе."
   ]
  },
  {
   "cell_type": "code",
   "execution_count": null,
   "id": "2cdae63b-a61e-43ca-8ad4-53e597661069",
   "metadata": {},
   "outputs": [],
   "source": []
  }
 ],
 "metadata": {
  "kernelspec": {
   "display_name": "Python 3 (ipykernel)",
   "language": "python",
   "name": "python3"
  },
  "language_info": {
   "codemirror_mode": {
    "name": "ipython",
    "version": 3
   },
   "file_extension": ".py",
   "mimetype": "text/x-python",
   "name": "python",
   "nbconvert_exporter": "python",
   "pygments_lexer": "ipython3",
   "version": "3.12.7"
  }
 },
 "nbformat": 4,
 "nbformat_minor": 5
}
